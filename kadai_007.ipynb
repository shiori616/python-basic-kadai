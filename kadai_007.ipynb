{
  "nbformat": 4,
  "nbformat_minor": 0,
  "metadata": {
    "colab": {
      "provenance": [],
      "authorship_tag": "ABX9TyOepegkJFnQRWF1rL1er1Ka",
      "include_colab_link": true
    },
    "kernelspec": {
      "name": "python3",
      "display_name": "Python 3"
    },
    "language_info": {
      "name": "python"
    }
  },
  "cells": [
    {
      "cell_type": "markdown",
      "metadata": {
        "id": "view-in-github",
        "colab_type": "text"
      },
      "source": [
        "<a href=\"https://colab.research.google.com/github/shiori616/python-basic-kadai/blob/main/kadai_007.ipynb\" target=\"_parent\"><img src=\"https://colab.research.google.com/assets/colab-badge.svg\" alt=\"Open In Colab\"/></a>"
      ]
    },
    {
      "cell_type": "code",
      "execution_count": null,
      "metadata": {
        "colab": {
          "base_uri": "https://localhost:8080/"
        },
        "id": "aCGQ5b11tQoH",
        "outputId": "bb10084e-25ff-4bde-f800-520212a3fb4e"
      },
      "outputs": [
        {
          "output_type": "stream",
          "name": "stdout",
          "text": [
            "['list2', 'list3', 'list4']\n",
            "('tuple1', 'tuple2', 'tuple3')\n",
            "{'set2', 'set3', 'set1'}\n",
            "{'set2', 'set3', 'set4'}\n"
          ]
        }
      ],
      "source": [
        "#リスト\n",
        "list = [\"list1\", \"list2\", \"list3\"]\n",
        "list_add = [\"list1_add\", \"list2_add\", \"list3_add\"]\n",
        "list.append(\"list4\")\n",
        "list.pop(0)\n",
        "print(list)\n",
        "\n",
        "#タプル 要素の追加・変更・削除が行えない配列\n",
        "tuple = (\"tuple1\", \"tuple2\", \"tuple3\")\n",
        "print(tuple)\n",
        "\n",
        "#セット 順番」と「重複」の2概念を持たない配列\n",
        "set = {\"set1\", \"set2\", \"set3\", \"set3\"}\n",
        "print(set)\n",
        "set.add(\"set4\")\n",
        "set.remove(\"set1\")\n",
        "print(set)"
      ]
    },
    {
      "cell_type": "code",
      "source": [
        "user_names = [\"太郎\", \"一郎\", \"治郎\"]\n",
        "user_ages = [23, 24, 26]\n",
        "\n",
        "print(user_names[1])\n",
        "\n",
        "user_names[2] = \"二郎\"\n",
        "\n",
        "print(user_names)\n",
        "\n",
        "user_names.append(\"二郎\")\n",
        "\n",
        "print(user_names)"
      ],
      "metadata": {
        "colab": {
          "base_uri": "https://localhost:8080/"
        },
        "id": "1RTRkhEKhDUi",
        "outputId": "0d5de387-a334-4de8-cb95-fdef12453387"
      },
      "execution_count": null,
      "outputs": [
        {
          "output_type": "stream",
          "name": "stdout",
          "text": [
            "一郎\n",
            "['太郎', '一郎', '二郎']\n",
            "['太郎', '一郎', '二郎', '二郎']\n"
          ]
        }
      ]
    },
    {
      "cell_type": "code",
      "source": [
        "stationery_prices = {\"鉛筆\":70, \"ボールペン\":120, \"シャープペンシル\":150, \"消しゴム\":90}\n",
        "print(stationery_prices[\"ボールペン\"])\n",
        "print(stationery_prices)\n",
        "print(stationery_prices[\"鉛筆\"])\n",
        "\n",
        "stationery_prices[\"鉛筆\"] = 100\n",
        "stationery_prices[\"付箋\"] = 50\n",
        "print(stationery_prices)\n",
        "\n",
        "stationery_prices.pop(\"鉛筆\")\n",
        "print(stationery_prices)"
      ],
      "metadata": {
        "colab": {
          "base_uri": "https://localhost:8080/"
        },
        "id": "keDzpQUqKkXU",
        "outputId": "b64865b7-5044-461b-a504-a757a192c70b"
      },
      "execution_count": null,
      "outputs": [
        {
          "output_type": "stream",
          "name": "stdout",
          "text": [
            "120\n",
            "{'鉛筆': 70, 'ボールペン': 120, 'シャープペンシル': 150, '消しゴム': 90}\n",
            "70\n",
            "{'鉛筆': 100, 'ボールペン': 120, 'シャープペンシル': 150, '消しゴム': 90, '付箋': 50}\n",
            "{'ボールペン': 120, 'シャープペンシル': 150, '消しゴム': 90, '付箋': 50}\n"
          ]
        }
      ]
    },
    {
      "cell_type": "code",
      "source": [
        "import random\n",
        "num = random.randint(0,4)\n",
        "print(num)\n",
        "if 1 < num and num <3:\n",
        "  print(\"変数numは1より大きく、3より小さいです\")\n",
        "elif num == 0:\n",
        "  print(\"ゼロです\")\n",
        "else:\n",
        "  print(\"はずれました　\")"
      ],
      "metadata": {
        "colab": {
          "base_uri": "https://localhost:8080/"
        },
        "id": "IJ-oIL1FWcUG",
        "outputId": "499b26a8-f039-4479-f7f7-2e4c301c5fe3"
      },
      "execution_count": null,
      "outputs": [
        {
          "output_type": "stream",
          "name": "stdout",
          "text": [
            "2\n",
            "変数numは1より大きく、3より小さいです\n"
          ]
        }
      ]
    },
    {
      "cell_type": "code",
      "source": [
        "list = [\n",
        "\"月曜日は晴れです\",\n",
        "\"火曜日は雨です\",\n",
        "\"水曜日は晴れです\",\n",
        "\"木曜日は晴れです\",\n",
        "\"金曜日は曇りです\",\n",
        "\"土曜日は曇りのち雨です\",\n",
        "\"日曜日は雷雨です\"]\n",
        "\n",
        "print(list[2])\n",
        "\n",
        "dictionary = {\n",
        "\"mon\":\"晴れ\",\n",
        "\"tue\":\"雨\",\n",
        "\"wed\":\"晴れ\",\n",
        "\"thu\":\"晴れ\",\n",
        "\"fri\":\"曇り\",\n",
        "\"sat\":\"曇りのち雨\",\n",
        "\"sun\":\"雷雨\",\n",
        "}\n",
        "\n",
        "print(dictionary[\"wed\"])"
      ],
      "metadata": {
        "colab": {
          "base_uri": "https://localhost:8080/"
        },
        "id": "XyGf7e6XbG5f",
        "outputId": "b4faffa3-4b13-48b4-d193-7dd364c1fbbf"
      },
      "execution_count": null,
      "outputs": [
        {
          "output_type": "stream",
          "name": "stdout",
          "text": [
            "水曜日は晴れです\n",
            "晴れ\n"
          ]
        }
      ]
    },
    {
      "cell_type": "code",
      "source": [],
      "metadata": {
        "id": "8Al42O6ncLqs"
      },
      "execution_count": null,
      "outputs": []
    }
  ]
}